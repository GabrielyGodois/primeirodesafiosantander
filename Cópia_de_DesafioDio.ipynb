{
  "nbformat": 4,
  "nbformat_minor": 0,
  "metadata": {
    "colab": {
      "provenance": []
    },
    "kernelspec": {
      "name": "python3",
      "display_name": "Python 3"
    },
    "language_info": {
      "name": "python"
    }
  },
  "cells": [
    {
      "cell_type": "code",
      "source": [
        "import pandas as pd\n",
        "\n",
        "df = pd.read_csv('texto.csv')\n",
        "User_ID = df['UserID'].tolist()\n",
        "print(User_ID)"
      ],
      "metadata": {
        "colab": {
          "base_uri": "https://localhost:8080/"
        },
        "id": "ZBPzxu872aZW",
        "outputId": "e476495b-220e-4422-e3ce-58113d3dfc49"
      },
      "execution_count": null,
      "outputs": [
        {
          "output_type": "stream",
          "name": "stdout",
          "text": [
            "[1213, 1279, 1177, 3112]\n"
          ]
        }
      ]
    },
    {
      "cell_type": "code",
      "source": [
        "texto_api_url = 'https://sdw-2023-prd.up.railway.app/swagger-ui/index.html'"
      ],
      "metadata": {
        "id": "V0oiU4Nd3KtG"
      },
      "execution_count": null,
      "outputs": []
    },
    {
      "cell_type": "code",
      "source": [
        "Apisantander = 'https://sdw-2023-prd.up.railway.app/users'"
      ],
      "metadata": {
        "id": "Wwalk4-LiARK"
      },
      "execution_count": null,
      "outputs": []
    },
    {
      "cell_type": "code",
      "source": [
        "import requests\n",
        "import json\n",
        "\n",
        "def get_User(id):\n",
        "  response = requests.get(f'{Apisantander}/users/{id}')\n",
        "  return response.json() if response.status_code == 200 else None\n",
        "\n",
        "users = [User for ID in User_ID if (User := get_User(ID)) is not None]\n",
        "print(json.dumps(User, indent=2))"
      ],
      "metadata": {
        "colab": {
          "base_uri": "https://localhost:8080/"
        },
        "id": "chMN8GEY3Nd5",
        "outputId": "7ca35c7a-ab25-448b-a78e-46cacc95ad82"
      },
      "execution_count": null,
      "outputs": [
        {
          "output_type": "stream",
          "name": "stdout",
          "text": [
            "null\n"
          ]
        }
      ]
    },
    {
      "cell_type": "code",
      "source": [
        "\n",
        "def generate_ai_news(user_name):\n",
        "\n",
        "    return f\"Fazer coisas interessantes para {user_name}: Ser feliz a vida passa rapido demais para pequenas coisas.\"\n",
        "\n",
        "\n",
        "user_names = [\"João\", \"Maria\", \"Francisca\"]\n",
        "\n",
        "for user_name in user_names:\n",
        "    news = generate_ai_news(user_name)\n",
        "    print(news)\n"
      ],
      "metadata": {
        "colab": {
          "base_uri": "https://localhost:8080/"
        },
        "id": "3Mx6R7KwRFpU",
        "outputId": "3cad0058-f447-4c3d-c548-99e5f8c3e879"
      },
      "execution_count": null,
      "outputs": [
        {
          "output_type": "stream",
          "name": "stdout",
          "text": [
            "Fazer coisas interessantes para João: Ser feliz a vida passa rapido demais para pequenas coisas.\n",
            "Fazer coisas interessantes para Maria: Ser feliz a vida passa rapido demais para pequenas coisas.\n",
            "Fazer coisas interessantes para Francisca: Ser feliz a vida passa rapido demais para pequenas coisas.\n"
          ]
        }
      ]
    },
    {
      "cell_type": "code",
      "source": [
        "def update_user(user_id, user_data):\n",
        "  response = requests.put(f\"{Apisantander}/users/{user_id}\", json=user_data)\n",
        "  return True if response.status_code == 200 else False"
      ],
      "metadata": {
        "id": "ElTYGsRyRViz"
      },
      "execution_count": null,
      "outputs": []
    },
    {
      "cell_type": "code",
      "source": [
        "user_name = [\"João\", \"Maria\", \"Francisca\"]"
      ],
      "metadata": {
        "id": "EUtZqRSfkONs"
      },
      "execution_count": null,
      "outputs": []
    },
    {
      "cell_type": "code",
      "source": [
        "def update_news_list(Apisantander, user_name, new_news):\n",
        "\n",
        "    news_list = Apisantander.get_news_list(user_name)\n",
        "    news_list.append(new_news)\n",
        "    Apisantander.update_news_list(user_name, news_list)"
      ],
      "metadata": {
        "id": "nSzuK58dk8jO"
      },
      "execution_count": null,
      "outputs": []
    },
    {
      "cell_type": "code",
      "source": [
        "messages = {\n",
        "    \"João\": \"Para o parque\",\n",
        "    \"Maria\": \"Para o shopping!\",\n",
        "    \"Francisca\": \"Para a festa!\",\n",
        "}\n",
        "\n",
        "def generate_ai_news(user_name):\n",
        "\n",
        "    global messages\n",
        "\n",
        "    news = messages[user_name]\n",
        "    return f\"Hoje iremos Passear com {user_name}: {news}\"\n",
        "\n",
        "\n",
        "user_names = [\"João\", \"Maria\", \"Francisca\"]\n",
        "\n",
        "for user_name in user_names:\n",
        "    news = generate_ai_news(user_name)\n",
        "    print(news)"
      ],
      "metadata": {
        "colab": {
          "base_uri": "https://localhost:8080/"
        },
        "id": "wOEQ5Ek2nTaC",
        "outputId": "9a2bea3a-b4b4-4f3f-cbb7-34ae099915bd"
      },
      "execution_count": null,
      "outputs": [
        {
          "output_type": "stream",
          "name": "stdout",
          "text": [
            "Hoje iremos Passear com João: Para o parque\n",
            "Hoje iremos Passear com Maria: Para o shopping!\n",
            "Hoje iremos Passear com Francisca: Para a festa!\n"
          ]
        }
      ]
    },
    {
      "cell_type": "code",
      "source": [],
      "metadata": {
        "id": "BCGInR4IoNq5"
      },
      "execution_count": null,
      "outputs": []
    }
  ]
}